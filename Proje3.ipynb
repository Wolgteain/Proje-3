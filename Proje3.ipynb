{
  "nbformat": 4,
  "nbformat_minor": 0,
  "metadata": {
    "colab": {
      "provenance": [],
      "authorship_tag": "ABX9TyNBtmjrt1yri9PC8/e9Cw/T",
      "include_colab_link": true
    },
    "kernelspec": {
      "name": "python3",
      "display_name": "Python 3"
    },
    "language_info": {
      "name": "python"
    }
  },
  "cells": [
    {
      "cell_type": "markdown",
      "metadata": {
        "id": "view-in-github",
        "colab_type": "text"
      },
      "source": [
        "<a href=\"https://colab.research.google.com/github/Wolgteain/Proje-3/blob/main/Proje3.ipynb\" target=\"_parent\"><img src=\"https://colab.research.google.com/assets/colab-badge.svg\" alt=\"Open In Colab\"/></a>"
      ]
    },
    {
      "cell_type": "code",
      "execution_count": 1,
      "metadata": {
        "colab": {
          "base_uri": "https://localhost:8080/"
        },
        "id": "3qdL_bngyCEj",
        "outputId": "38ef9d01-36e7-45f8-8f66-9ae77a2b0abb"
      },
      "outputs": [
        {
          "output_type": "stream",
          "name": "stdout",
          "text": [
            "Collecting langdetect\n",
            "  Downloading langdetect-1.0.9.tar.gz (981 kB)\n",
            "\u001b[?25l     \u001b[90m━━━━━━━━━━━━━━━━━━━━━━━━━━━━━━━━━━━━━━━━\u001b[0m \u001b[32m0.0/981.5 kB\u001b[0m \u001b[31m?\u001b[0m eta \u001b[36m-:--:--\u001b[0m\r\u001b[2K     \u001b[91m━━━━━━━━━━━━━━━━━━━━━━━━━━━━━━\u001b[0m\u001b[90m╺\u001b[0m\u001b[90m━━━━━━━━━\u001b[0m \u001b[32m737.3/981.5 kB\u001b[0m \u001b[31m22.3 MB/s\u001b[0m eta \u001b[36m0:00:01\u001b[0m\r\u001b[2K     \u001b[90m━━━━━━━━━━━━━━━━━━━━━━━━━━━━━━━━━━━━━━━━\u001b[0m \u001b[32m981.5/981.5 kB\u001b[0m \u001b[31m13.4 MB/s\u001b[0m eta \u001b[36m0:00:00\u001b[0m\n",
            "\u001b[?25h  Preparing metadata (setup.py) ... \u001b[?25l\u001b[?25hdone\n",
            "Requirement already satisfied: six in /usr/local/lib/python3.10/dist-packages (from langdetect) (1.16.0)\n",
            "Building wheels for collected packages: langdetect\n",
            "  Building wheel for langdetect (setup.py) ... \u001b[?25l\u001b[?25hdone\n",
            "  Created wheel for langdetect: filename=langdetect-1.0.9-py3-none-any.whl size=993222 sha256=5378546569ab13056f864952bae39f3b7b64a49b5fa5343c80838219682b9a08\n",
            "  Stored in directory: /root/.cache/pip/wheels/95/03/7d/59ea870c70ce4e5a370638b5462a7711ab78fba2f655d05106\n",
            "Successfully built langdetect\n",
            "Installing collected packages: langdetect\n",
            "Successfully installed langdetect-1.0.9\n"
          ]
        }
      ],
      "source": [
        "pip install langdetect"
      ]
    },
    {
      "cell_type": "code",
      "source": [
        "from langdetect import detect, DetectorFactory\n",
        "\n",
        "\n",
        "DetectorFactory.seed = 0\n",
        "\n",
        "def dil_tespiti(metin):\n",
        "    try:\n",
        "\n",
        "        dil = detect(metin)\n",
        "\n",
        "\n",
        "        diller = {\n",
        "            'tr': 'Türkçe',\n",
        "            'en': 'İngilizce',\n",
        "            'de': 'Almanca',\n",
        "            'fr': 'Fransızca',\n",
        "            'es': 'İspanyolca'\n",
        "        }\n",
        "\n",
        "        return diller.get(dil, \"Dil tespit edilemedi\")\n",
        "    except Exception as e:\n",
        "        return \"Hata: \" + str(e)\n",
        "\n",
        "\n",
        "girdi = input(\"Lütfen bir metin girin: \")\n",
        "sonuc = dil_tespiti(girdi)\n",
        "print(f\"Girilen metin '{sonuc}' dilinde yazılmıştır.\")"
      ],
      "metadata": {
        "colab": {
          "base_uri": "https://localhost:8080/"
        },
        "id": "vH6lu5JYyLFA",
        "outputId": "32d2ab08-babe-4a3d-d09c-55026e93ddb2"
      },
      "execution_count": 3,
      "outputs": [
        {
          "output_type": "stream",
          "name": "stdout",
          "text": [
            "Lütfen bir metin girin: ben kaç yaşındayım bilmiyorum  uzun zaman önce buralara geldim. buraları gezmeyi çok seviyorum. çok güzel bir şehir Ankara\n",
            "Girilen metin 'Türkçe' dilinde yazılmıştır.\n"
          ]
        }
      ]
    }
  ]
}